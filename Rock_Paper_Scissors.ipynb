{
 "cells": [
  {
   "cell_type": "code",
   "execution_count": 24,
   "id": "60917a71",
   "metadata": {},
   "outputs": [
    {
     "name": "stdout",
     "output_type": "stream",
     "text": [
      "Enter Choice (Rock/Paper/Scissor):\n",
      "hfgxdfg\n",
      "You have selected:\t Hfgxdfg\n",
      "you have entered wrong choice\n",
      "Play again? (y/n): y\n",
      "Enter Choice (Rock/Paper/Scissor):\n",
      "hjvhjb\n",
      "You have selected:\t Hjvhjb\n",
      "you have entered wrong choice\n",
      "Play again? (y/n): s\n"
     ]
    }
   ],
   "source": [
    "import random\n",
    "\n",
    "while True:\n",
    "    List=[\"Rock\",\"Paper\",\"Scissor\"]\n",
    "    user_choice=input(\"Enter Choice (Rock/Paper/Scissor):\\n\").capitalize()\n",
    "    print(\"You have selected:\\t\",user_choice)\n",
    "    Machine_Choice=random.choice(List)\n",
    "    if user_choice==\"Rock\" or user_choice==\"Paper\" or user_choice==\"Scissor\" :  \n",
    "        print(\"Machnie have selected:\\t\",Machine_Choice)\n",
    "    \n",
    "        if user_choice==Machine_Choice:\n",
    "            print(\"Its A Tie\")\n",
    "    \n",
    "        elif user_choice==\"Rock\":\n",
    "            if Machine_Choice==\"Scissor\":\n",
    "                print(\"Rock smashes scissors..You Win\")\n",
    "            else:\n",
    "                print(\"Paper covers rock! You lose.\")\n",
    "        \n",
    "        elif user_choice==\"Paper\":\n",
    "            if Machine_Choice==\"Rock\":\n",
    "                print(\"Paper covers rock..You Win\")\n",
    "            else: \n",
    "                print(\"Scissors cuts paper! You lose.\")\n",
    "\n",
    "        elif user_choice==\"Scissor\":\n",
    "            if Machine_Choice==\"Paper\":\n",
    "                print(\"Scissors cuts paper! You win!\")\n",
    "            else:\n",
    "                print(\"Rock smashes scissors! You lose.\")\n",
    "    else:\n",
    "        print(\"you have entered wrong choice\")\n",
    "    play_again = input(\"Play again? (y/n): \")\n",
    "    if play_again.lower() != \"y\":\n",
    "        break\n",
    "        \n"
   ]
  },
  {
   "cell_type": "code",
   "execution_count": null,
   "id": "97463a02",
   "metadata": {},
   "outputs": [],
   "source": []
  },
  {
   "cell_type": "code",
   "execution_count": null,
   "id": "ffad896f",
   "metadata": {},
   "outputs": [],
   "source": []
  },
  {
   "cell_type": "code",
   "execution_count": null,
   "id": "ff5e3d03",
   "metadata": {},
   "outputs": [],
   "source": []
  }
 ],
 "metadata": {
  "kernelspec": {
   "display_name": "Python 3",
   "language": "python",
   "name": "python3"
  },
  "language_info": {
   "codemirror_mode": {
    "name": "ipython",
    "version": 3
   },
   "file_extension": ".py",
   "mimetype": "text/x-python",
   "name": "python",
   "nbconvert_exporter": "python",
   "pygments_lexer": "ipython3",
   "version": "3.8.8"
  }
 },
 "nbformat": 4,
 "nbformat_minor": 5
}
